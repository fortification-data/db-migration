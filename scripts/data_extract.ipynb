{
 "cells": [
  {
   "cell_type": "code",
   "execution_count": null,
   "id": "e7ec2652-fb14-42a7-aadb-bf2a8ce4a0d9",
   "metadata": {},
   "outputs": [],
   "source": [
    "# Let's pull data from the GFDx! This can pull the most current data that the GFDx has.\n",
    "# Date 8/16/2022\n",
    "# Author Michelle Duong\n",
    "\n",
    "# Install package to allow import from REDCap API\n",
    "!pip install PyCap\n",
    "from redcap import Project\n",
    "import pandas as pd\n",
    "import numpy as np\n",
    "import os\n",
    "from tqdm.notebook import tqdm  # progress bar\n",
    "\n",
    "# Connecting to GFDx Redcap API\n",
    "API_KEY = \"5E21E0FE11A1F430927A1186D98F3E8F\"\n",
    "URL = 'https://redcap.emory.edu/api/'\n",
    "project = Project(URL, API_KEY)"
   ]
  },
  {
   "cell_type": "code",
   "execution_count": null,
   "id": "726b9a86-241b-42a5-891e-895e290eccdc",
   "metadata": {},
   "outputs": [],
   "source": [
    "# Pull all forms available in the GFDx database\n",
    "# project.forms\n",
    "form = ['legislation_status',\n",
    " 'country',\n",
    " 'coverage_ipfv',\n",
    " 'intake',\n",
    " 'coverage_ffv_hh',\n",
    " 'coverage_ffv_quant',\n",
    " 'coverage_fv',\n",
    " 'coverage_ffv_hh_quant',\n",
    " 'health_impact',\n",
    " 'monitoring',\n",
    " 'summary_nutrient_intake',\n",
    " 'nutrients_compounds',\n",
    " 'gfdx_citations',\n",
    " 'availability',\n",
    " 'foundational_documents_review',\n",
    " 'ff_opportunity',\n",
    " 'population',\n",
    " 'legislation_scope',\n",
    " 'compliance',\n",
    " 'coverage_ffv',\n",
    " 'industrially_processed',\n",
    " 'production',\n",
    " 'nutrition_status',\n",
    " 'income_status',\n",
    " 'urban_population']"
   ]
  },
  {
   "cell_type": "code",
   "execution_count": null,
   "id": "33593f6d-becf-4b7e-83f4-2d789e5797fc",
   "metadata": {},
   "outputs": [],
   "source": [
    "for f in form:\n",
    "    subset = project.export_records(forms=[f], format='df')\n",
    "    subset.to_csv(f\"{f}.csv\")"
   ]
  },
  {
   "cell_type": "code",
   "execution_count": null,
   "id": "b46ff4ac-ba07-41a2-b44c-ffa3ab7ed8ee",
   "metadata": {},
   "outputs": [],
   "source": []
  },
  {
   "cell_type": "code",
   "execution_count": null,
   "id": "4bd3760b-c184-4b1a-b554-ff148555324f",
   "metadata": {},
   "outputs": [],
   "source": []
  },
  {
   "cell_type": "code",
   "execution_count": null,
   "id": "3a2c444c-acc3-4b90-8022-fbae443f9e6d",
   "metadata": {},
   "outputs": [],
   "source": []
  },
  {
   "cell_type": "code",
   "execution_count": null,
   "id": "8423f8c5-6c7c-4d14-996a-2217d88efb3d",
   "metadata": {},
   "outputs": [],
   "source": []
  }
 ],
 "metadata": {
  "kernelspec": {
   "display_name": "Python 3.10.6 ('.venv': poetry)",
   "language": "python",
   "name": "python3"
  },
  "language_info": {
   "codemirror_mode": {
    "name": "ipython",
    "version": 3
   },
   "file_extension": ".py",
   "mimetype": "text/x-python",
   "name": "python",
   "nbconvert_exporter": "python",
   "pygments_lexer": "ipython3",
   "version": "3.10.6"
  },
  "vscode": {
   "interpreter": {
    "hash": "848d3a3c89e25e1d470ef3d203a8518d822df3836f19676921a94ba25eb653d8"
   }
  }
 },
 "nbformat": 4,
 "nbformat_minor": 5
}
